{
 "cells": [
  {
   "cell_type": "code",
   "execution_count": 2,
   "metadata": {},
   "outputs": [
    {
     "name": "stderr",
     "output_type": "stream",
     "text": [
      "/usr/local/lib/python2.7/dist-packages/matplotlib/__init__.py:1405: UserWarning: \n",
      "This call to matplotlib.use() has no effect because the backend has already\n",
      "been chosen; matplotlib.use() must be called *before* pylab, matplotlib.pyplot,\n",
      "or matplotlib.backends is imported for the first time.\n",
      "\n",
      "  warnings.warn(_use_error_msg)\n"
     ]
    }
   ],
   "source": [
    "%matplotlib inline \n",
    "from wmf import wmf\n",
    "import numpy as np \n",
    "import pylab as pl \n",
    "import pandas as pd\n",
    "import os \n",
    "import glob\n",
    "import osgeo.ogr\n",
    "import warnings\n",
    "warnings.filterwarnings('ignore')\n",
    "\n",
    "import MySQLdb\n",
    "import csv\n",
    "import matplotlib\n",
    "import matplotlib.font_manager\n",
    "from datetime import timedelta\n",
    "import datetime as dt\n",
    "import pickle\n",
    "import matplotlib.dates as mdates"
   ]
  },
  {
   "cell_type": "markdown",
   "metadata": {},
   "source": [
    "# Consulta a bd, calidad y media"
   ]
  },
  {
   "cell_type": "code",
   "execution_count": null,
   "metadata": {
    "collapsed": true
   },
   "outputs": [],
   "source": [
    "# codigo de la estacion.\n",
    "codeest=116\n",
    "# coneccion a bd con usuario operacional\n",
    "host   = '192.168.1.74'\n",
    "user   = 'siata_Oper'\n",
    "passwd = 'si@t@64512_operacional'\n",
    "bd     = 'siata'\n",
    "\n",
    "#Consulta a tabla historico_bancallena_offset\n",
    "#select fecha_hora,offset from historico_bancallena_offset where codigo='106'\n",
    "offsets=\"SELECT fecha_hora,offset FROM historico_bancallena_offset WHERE codigo=(\"+str(codeest)+\")\"\n",
    "dbconn = MySQLdb.connect(host, user,passwd,bd)\n",
    "db_cursor = dbconn.cursor()\n",
    "db_cursor.execute(offsets)\n",
    "result1 = np.array(db_cursor.fetchall())\n",
    "#holding\n",
    "offsetH=pd.DataFrame(result1,columns=['date','offset'])"
   ]
  },
  {
   "cell_type": "code",
   "execution_count": null,
   "metadata": {
    "collapsed": true
   },
   "outputs": [],
   "source": [
    "#Consulta a tabla estaciones\n",
    "Estaciones=\"SELECT Nombreestacion,N,fechainstalacion  FROM estaciones WHERE codigo=(\"+str(codeest)+\")\"\n",
    "dbconn = MySQLdb.connect(host, user,passwd,bd)\n",
    "db_cursor = dbconn.cursor()\n",
    "db_cursor.execute(Estaciones)\n",
    "result2 = db_cursor.fetchall()\n",
    "#holding\n",
    "nombreest=result2[0][0]\n",
    "tipo=int(result2[0][1])\n",
    "fecha_instal=result2[0][2]\n",
    "\n",
    "#Consulta tabla datos\n",
    "#fechas de consulta\n",
    "# fi=dt.datetime.now() - dt.timedelta(days = 92) #consulta de los ultimos 3 meses.\n",
    "FI=fecha_instal.strftime('%Y-%m-%d') # consulta historica\n",
    "FF=dt.datetime.now().strftime('%Y-%m-%d')\n",
    "HI='00:00:00' #consulta de los ultimos 3 meses.\n",
    "HF='23:59:00'\n",
    "#definicion de tipo N para consultar campo.\n",
    "if tipo == 1:#radar\n",
    "    niv='ni'\n",
    "elif tipo == 0:#ultrasonido\n",
    "    niv='pr'\n",
    "#Consulta a tabla datos\n",
    "sql_datos =\"SELECT DATE_FORMAT(fecha,'%Y-%m-%d'), DATE_FORMAT(hora, '%H:%i:%s'), (\"+niv+\"), calidad FROM datos WHERE cliente = (\"+str(codeest)+\") and fecha between '\"+FI+\"' and '\"+FF+\"' and hora between '\"+HI+\"' and '\"+HF+\"'\"\n",
    "dbconn = MySQLdb.connect(host, user,passwd,bd)\n",
    "db_cursor = dbconn.cursor()\n",
    "db_cursor.execute(sql_datos)\n",
    "result_data = np.array(db_cursor.fetchall())\n",
    "#holding\n",
    "data = pd.DataFrame(result_data)"
   ]
  },
  {
   "cell_type": "code",
   "execution_count": 263,
   "metadata": {},
   "outputs": [],
   "source": [
    "#Se organizan consulta en serie de tiempo.\n",
    "fe=[data[0][i]+'-'+data[1][i] for i in range(len(data))]; fe=np.array(fe)\n",
    "nobs=[float(data[2][i]) for i in range(len(data))];nobs=np.array(nobs)\n",
    "calidad=[int(data[3][i]) for i in range(len(data))];calidad=np.array(calidad)\n",
    "#se encuentran y eliminan los datos con datetime malos.\n",
    "badpos=[];dates=[]\n",
    "for i,date in enumerate(fe):\n",
    "    try:\n",
    "        dates.append(dt.datetime.strptime(date,'%Y-%m-%d-%H:%M:%S'))\n",
    "    except:\n",
    "        badpos.append(i)\n",
    "nobs=np.delete(nobs,badpos)\n",
    "calidad=np.delete(calidad,badpos)\n",
    "# serie\n",
    "Nobs=pd.Series(nobs,index=dates)\n",
    "\n",
    "#Se corrgie Nobs por calidad\n",
    "try:\n",
    "    Nobs[np.where((calidad!=1)&(calidad!=2))[0]]=np.nan\n",
    "except:\n",
    "    pass"
   ]
  },
  {
   "cell_type": "code",
   "execution_count": 264,
   "metadata": {},
   "outputs": [],
   "source": [
    "# Se encuentran las fechas de cambio de offset\n",
    "pos_of=[]\n",
    "for pos in range(offsetH.shape[0]):\n",
    "    try:\n",
    "        pos_of.append(Nobs.index.get_loc(offsetH['date'][pos]))\n",
    "    except:\n",
    "        #si no existe, escoge la fecha más cercana después de ella.\n",
    "        pos_of.append(Nobs.index.get_loc(offsetH['date'][pos],method='nearest'))\n",
    "#Se escoge las fechas en las que aplica cada offset\n",
    "for pos in range(offsetH.shape[0]):\n",
    "    #Si es el primer offset, se crea la serie.\n",
    "    if pos==0:\n",
    "        #si hay mas de uno se va con ese offset hasta el sgte\n",
    "        try:\n",
    "            serie=offsetH['offset'][pos]-Nobs[:pos_of[pos+1]]\n",
    "        #si solo hay uno se va con ese toda la serie.\n",
    "        except:\n",
    "            serie=offsetH['offset'][pos]-Nobs[:]\n",
    "    #Si es un intermedio o ultimo se agrega a la serie.\n",
    "    elif pos==offsetH.shape[0]-1:\n",
    "        serie.append(offsetH['offset'][pos]-Nobs[pos_of[pos]:])\n",
    "    else:\n",
    "        serie.append(offsetH['offset'][pos]-Nobs[pos_of[pos]:pos_of[pos+1]])\n",
    "\n",
    "Nobs1=serie"
   ]
  },
  {
   "cell_type": "code",
   "execution_count": 265,
   "metadata": {},
   "outputs": [
    {
     "data": {
      "text/plain": [
       "<matplotlib.axes._subplots.AxesSubplot at 0x7f5717b50910>"
      ]
     },
     "execution_count": 265,
     "metadata": {},
     "output_type": "execute_result"
    },
    {
     "data": {
      "image/png": "[encoded data removed]",
      "text/plain": [
       "<matplotlib.figure.Figure at 0x7f5717c62050>"
      ]
     },
     "metadata": {},
     "output_type": "display_data"
    }
   ],
   "source": [
    "Nobs1.plot()"
   ]
  },
  {
   "cell_type": "markdown",
   "metadata": {},
   "source": [
    "n3=n.resample('5min').mean()"
   ]
  },
  {
   "cell_type": "code",
   "execution_count": 276,
   "metadata": {},
   "outputs": [],
   "source": [
    "#Calidad\n",
    "n2=np.copy(Nobs1)\n",
    "grad=50\n",
    "for k in range(1,(len(n2)-1)):\n",
    "    d= n2[k]\n",
    "    c= n2[k-1]\n",
    "    e= n2[k+1]\n",
    "    if abs(d-c)>grad and abs(d-e)>grad:\n",
    "        n2[k]=np.nan\n",
    "n2[n2<0]=np.nan\n",
    "n2=pd.Series(n2,index=Nobs1.index)"
   ]
  },
  {
   "cell_type": "markdown",
   "metadata": {},
   "source": [
    "Datos fuera de rango"
   ]
  },
  {
   "cell_type": "code",
   "execution_count": 311,
   "metadata": {
    "collapsed": true
   },
   "outputs": [],
   "source": [
    "n2[1567050:1567050+56320]=np.nan"
   ]
  },
  {
   "cell_type": "code",
   "execution_count": 312,
   "metadata": {},
   "outputs": [
    {
     "data": {
      "text/plain": [
       "<matplotlib.axes._subplots.AxesSubplot at 0x7f56fa3c9450>"
      ]
     },
     "execution_count": 312,
     "metadata": {},
     "output_type": "execute_result"
    },
    {
     "data": {
      "image/png": "[encoded data removed]",
      "text/plain": [
       "<matplotlib.figure.Figure at 0x7f56fa368690>"
      ]
     },
     "metadata": {},
     "output_type": "display_data"
    }
   ],
   "source": [
    "pl.figure(figsize=(10,5))\n",
    "n2.plot()\n"
   ]
  },
  {
   "cell_type": "markdown",
   "metadata": {},
   "source": [
    "media=np.percentile(n2.dropna(),50)\n",
    "media"
   ]
  },
  {
   "cell_type": "markdown",
   "metadata": {},
   "source": [
    "Guardar la info"
   ]
  },
  {
   "cell_type": "code",
   "execution_count": 313,
   "metadata": {},
   "outputs": [
    {
     "name": "stdout",
     "output_type": "stream",
     "text": [
      "2014-07-10\n",
      "2017-10-23\n"
     ]
    }
   ],
   "source": [
    "print n2.index[0].strftime('%Y-%m-%d')\n",
    "print n2.index[-1].strftime('%Y-%m-%d')\n"
   ]
  },
  {
   "cell_type": "code",
   "execution_count": 316,
   "metadata": {},
   "outputs": [],
   "source": [
    "n2.to_msgpack('/media/nicolas/Home/Jupyter/Soraya/series/Qobs'+str(codeest)+'_1min_'+n2.index[0].strftime('%Y-%m-%d')+'_'+n2.index[-1].strftime('%Y-%m-%d')+'.msg')"
   ]
  },
  {
   "cell_type": "markdown",
   "metadata": {},
   "source": [
    "## función para editar parametros en el configfile"
   ]
  },
  {
   "cell_type": "code",
   "execution_count": 16,
   "metadata": {
    "collapsed": true
   },
   "outputs": [],
   "source": [
    "rutaConfig='/media/nicolas/Home/Jupyter/Soraya/Op_Alarmas/Op_LaInmaculada12m/01_Cuenca/EjemploCalib_Calib.md'\n",
    "# lol=get_rutesList(rutaConfig)"
   ]
  },
  {
   "cell_type": "code",
   "execution_count": 23,
   "metadata": {
    "collapsed": true
   },
   "outputs": [],
   "source": [
    "rutaConfig='/media/nicolas/Home/Jupyter/Soraya/Op_Alarmas/Op_AMVA60m/01_Cuenca/EjemploCalib_Calib.md'\n",
    "# lol=get_rutesList(rutaConfig)"
   ]
  },
  {
   "cell_type": "code",
   "execution_count": 24,
   "metadata": {
    "collapsed": true
   },
   "outputs": [],
   "source": [
    "def write_parameters_on_configfile(rutaConfig,key,add):\n",
    "    '''Agrega o cambia parametros (valores, rutas, etc.) a lineas del configfile que inician con key.\n",
    "    - rutaConfig: ruta del configfile a editar (ruta en string)\n",
    "    - key: palabra clave para identificar la linea a editar (una existente dentro del configfile)\n",
    "    - add: lo que se agrega o cambia en el ultimo elemento de la linea (string). Debe terminar con ' \\n'.\n",
    "    Puede ser vacio (' \\n')\n",
    "    '''\n",
    "    #fuente: https://stackoverflow.com/questions/125703/how-to-modify-a-text-file\n",
    "\n",
    "    #lee archivo con permisos de escritura\n",
    "    f = open(rutaConfig , 'r+b')   \n",
    "    f_content = f.readlines()\n",
    "    #agrega o cambia valores de parametros (valores, rutas, etc.)\n",
    "    for pos,line in enumerate(f_content):\n",
    "        if line.startswith('- **'+key+'**'):\n",
    "            line_now=line\n",
    "            f_content[pos] = f_content[pos].split(' ')[0]+' '+f_content[pos].split(' ')[1]+' '+add\n",
    "\n",
    "    # return pointer to top of file so we can re-write the content with replaced string\n",
    "    f.seek(0)\n",
    "    # clear file content \n",
    "    f.truncate()\n",
    "    # re-write the content with the updated content\n",
    "    f.write(''.join(f_content))\n",
    "    #cierra el archivo\n",
    "    f.close()\n",
    "    print 'Aviso: Se edito correctamente la linea **'+key+'** en '+rutaConfig"
   ]
  },
  {
   "cell_type": "code",
   "execution_count": 25,
   "metadata": {},
   "outputs": [
    {
     "name": "stdout",
     "output_type": "stream",
     "text": [
      "Aviso: Se edito correctamente la linea **mediaN** en /media/nicolas/Home/Jupyter/Soraya/Op_Alarmas/Op_AMVA60m/01_Cuenca/EjemploCalib_Calib.md\n"
     ]
    }
   ],
   "source": [
    "write_parameters_on_configfile(rutaConfig,'mediaN',str(media)+'\\n')"
   ]
  }
 ],
 "metadata": {
  "kernelspec": {
   "display_name": "Python 2",
   "language": "python",
   "name": "python2"
  },
  "language_info": {
   "codemirror_mode": {
    "name": "ipython",
    "version": 2
   },
   "file_extension": ".py",
   "mimetype": "text/x-python",
   "name": "python",
   "nbconvert_exporter": "python",
   "pygments_lexer": "ipython2",
   "version": "2.7.6"
  }
 },
 "nbformat": 4,
 "nbformat_minor": 2
}
