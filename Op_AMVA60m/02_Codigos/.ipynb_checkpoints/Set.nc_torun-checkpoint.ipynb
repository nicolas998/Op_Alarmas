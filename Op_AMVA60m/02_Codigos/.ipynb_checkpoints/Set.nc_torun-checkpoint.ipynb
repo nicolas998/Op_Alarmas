{
 "cells": [
  {
   "cell_type": "code",
   "execution_count": 1,
   "metadata": {
    "collapsed": true
   },
   "outputs": [],
   "source": [
    "import pandas as pd \n",
    "import datetime as dt \n",
    "import os \n",
    "from wmf import wmf\n",
    "from multiprocessing import Pool\n",
    "import numpy as np\n",
    "import pickle \n",
    "import alarmas as al\n",
    "import glob \n",
    "import time\n",
    "import pylab as pl"
   ]
  },
  {
   "cell_type": "code",
   "execution_count": 2,
   "metadata": {
    "collapsed": true
   },
   "outputs": [],
   "source": [
    "#Obtiene las rutas necesarias \n",
    "ruta_de_rutas = '/media/nicolas/Home/Jupyter/Soraya/Op_Alarmas/Op_AMVA60m/Rutas.md'\n",
    "RutasList = al.get_rutesList(ruta_de_rutas)\n",
    "\n",
    "# rutas de objetos de entrada\n",
    "ruta_cuenca = al.get_ruta(RutasList, 'ruta_cuenca')\n",
    "ruta_campos = al.get_ruta(RutasList, 'ruta_campos')\n",
    "ruta_codigos = al.get_ruta(RutasList, 'ruta_codigos')\n",
    "ruta_configuracion_1 = al.get_ruta(RutasList, 'ruta_configuracion_1')\n",
    "ruta_almacenamiento = al.get_ruta(RutasList, 'ruta_almacenamiento')\n",
    "# Rutas de objetos de salida\n",
    "ruta_out_rain = al.get_ruta(RutasList, 'ruta_rain')\n",
    "ruta_out_rain_png = al.get_ruta(RutasList, 'ruta_rain_png')"
   ]
  },
  {
   "cell_type": "code",
   "execution_count": 3,
   "metadata": {},
   "outputs": [
    {
     "name": "stdout",
     "output_type": "stream",
     "text": [
      "No se encuentran el DEM y el DIR en la ruta:\n",
      "/media/nicolas/discoGrande/01_SIATA/raster/dem_amva60.tif\n",
      "/media/nicolas/discoGrande/01_SIATA/raster/dir_amva60.tif\n"
     ]
    }
   ],
   "source": [
    "cu = wmf.SimuBasin(rute=ruta_cuenca)"
   ]
  },
  {
   "cell_type": "code",
   "execution_count": 4,
   "metadata": {
    "collapsed": true
   },
   "outputs": [],
   "source": [
    "ruta_dem='/media/nicolas/Home/nicolas/01_SIATA/raster/dem_amva60.tif'\n",
    "ruta_dir='/media/nicolas/Home/nicolas/01_SIATA/raster/dir_amva60.tif'"
   ]
  },
  {
   "cell_type": "code",
   "execution_count": 5,
   "metadata": {
    "collapsed": true
   },
   "outputs": [],
   "source": [
    "wmf.SimuBains_Update_DEM_DIR(ruta_cuenca,ruta_dem,ruta_dir)"
   ]
  },
  {
   "cell_type": "code",
   "execution_count": 6,
   "metadata": {
    "collapsed": true
   },
   "outputs": [],
   "source": [
    "cu = wmf.SimuBasin(rute=ruta_cuenca)"
   ]
  }
 ],
 "metadata": {
  "kernelspec": {
   "display_name": "Python 2",
   "language": "python",
   "name": "python2"
  },
  "language_info": {
   "codemirror_mode": {
    "name": "ipython",
    "version": 2
   },
   "file_extension": ".py",
   "mimetype": "text/x-python",
   "name": "python",
   "nbconvert_exporter": "python",
   "pygments_lexer": "ipython2",
   "version": "2.7.6"
  }
 },
 "nbformat": 4,
 "nbformat_minor": 2
}
