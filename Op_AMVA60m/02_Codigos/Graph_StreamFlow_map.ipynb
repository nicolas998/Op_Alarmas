{
 "cells": [
  {
   "cell_type": "code",
   "execution_count": 1,
   "metadata": {
    "collapsed": true
   },
   "outputs": [],
   "source": [
    "#!/usr/bin/env python\n",
    "import argparse\n",
    "import textwrap\n",
    "import numpy as np\n",
    "import os\n",
    "from wmf import wmf\n",
    "import alarmas as al\n",
    "from multiprocessing import Pool\n",
    "import glob"
   ]
  },
  {
   "cell_type": "markdown",
   "metadata": {},
   "source": [
    "#Parametros de entrada del trazador\n",
    "parser=argparse.ArgumentParser(\n",
    "        prog='Genera_Grafica_Qsim',\n",
    "        formatter_class=argparse.RawDescriptionHelpFormatter,\n",
    "        description=textwrap.dedent('''\\\n",
    "        Genera la figura de caudales simulados para un periodo asignado de tiempo, de forma \n",
    "        adicional presenta el hietograma de precipitacion.\n",
    "        '''))\n",
    "\n",
    "#Parametros obligatorios\n",
    "parser.add_argument(\"date\",help=\"(Obligatorio) Fecha actual de ejecucion YYYY-MM-DD-HH:MM\")\n",
    "parser.add_argument(\"cuenca\",help=\"Obligatorio) Archivo -nc de la cuenca con la cual se va a realizar el trabajo\")\n",
    "parser.add_argument(\"rutaConfig\",help=\"(Obligatorio) Ruta con la configuracion de la cuenca\")\n",
    "parser.add_argument(\"-c\", \"--coord\",help=\"Escribe archivo con coordenadas\", default = False, type = bool)\n",
    "parser.add_argument(\"-r\", \"--record\",help=\"Record de lectura en el binario para graficar\", \n",
    "\tdefault = 1, type = int)\n",
    "parser.add_argument(\"-v\",\"--verbose\",help=\"Informa sobre la fecha que esta agregando\", \n",
    "\taction = 'store_true')\n",
    "\t\n",
    "#lee todos los argumentos\n",
    "args=parser.parse_args()"
   ]
  },
  {
   "cell_type": "code",
   "execution_count": 9,
   "metadata": {
    "collapsed": true
   },
   "outputs": [],
   "source": [
    "date='2017-10-02'\n",
    "cuenca='/media/nicolas/Home/Jupyter/Soraya/Op_Alarmas/Op_AMVA60m/01_Cuenca/Barbosa_Slides_001.nc'\n",
    "rutaConfig='/media/nicolas/Home/Jupyter/Soraya/Op_Alarmas/Op_AMVA60m/01_Cuenca/EjemploCalib_Calib.md'\n",
    "verbose=True\n",
    "coord=True\n",
    "record=1"
   ]
  },
  {
   "cell_type": "code",
   "execution_count": 10,
   "metadata": {},
   "outputs": [],
   "source": [
    "#-------------------------------------------------------------------------------------------------------\n",
    "#-------------------------------------------------------------------------------------------------------\n",
    "#Lee el archivo de configuracion\n",
    "ListConfig = al.get_rutesList(rutaConfig)#args.\n",
    "#Lectura de rutas\n",
    "ruta_qsim = al.get_ruta(ListConfig,'ruta_map_qsim')\n",
    "ruta_sto = al.get_ruta(ListConfig,'ruta_almsim')\n",
    "#Dicctionario con info de plot\n",
    "ListPlotVar = al.get_modelConfig_lines(ListConfig, '-p', Calib_Storage='Plot',PlotType='Qsim_map')\n",
    "DictStore = al.get_modelConfig_lines(ListConfig, '-s', 'Store')"
   ]
  },
  {
   "cell_type": "code",
   "execution_count": 12,
   "metadata": {},
   "outputs": [],
   "source": [
    "#-------------------------------------------------------------------------------------------------------\n",
    "#-------------------------------------------------------------------------------------------------------\n",
    "#Lectura de cuenca y variables\n",
    "cu = wmf.SimuBasin(rute=cuenca)\n",
    "#lectura de constantes \n",
    "qmed = cu.Load_BasinVar('qmed')\n",
    "horton = cu.Load_BasinVar('horton')\n",
    "cauce = cu.Load_BasinVar('cauce')\n",
    "\n",
    "#construye las listas para plotear en paralelo\n",
    "ListaEjec = []\n",
    "for l in ListPlotVar:\n",
    "\truta_in = ruta_sto + DictStore['-s '+l]['Nombre']\n",
    "\t#Mira la ruta del folder y si no existe la crea\n",
    "\truta_folder = ruta_qsim +'-'+l+'/'\n",
    "\tEsta = glob.glob(ruta_folder)\n",
    "\tif len(Esta) == 0:\n",
    "\t\tos.system('mkdir '+ruta_folder)\n",
    "\t#Obtiene las rutas de los archivos de salida\n",
    "\truta_out_png = ruta_folder + 'StreamFlow_'+l+'_'+date+'.png'\n",
    "\truta_out_txt = ruta_folder + 'StreamFlow_'+l+'_'+date+'.txt'\n",
    "\tv,r = wmf.models.read_float_basin_ncol(ruta_in,record, cu.ncells, 5)#args.\n",
    "\tListaEjec.append([ruta_in, ruta_out_png, ruta_out_txt, v[-1], l])"
   ]
  },
  {
   "cell_type": "code",
   "execution_count": null,
   "metadata": {
    "collapsed": true
   },
   "outputs": [],
   "source": [
    "#-------------------------------------------------------------------------------------------------------\n",
    "#-------------------------------------------------------------------------------------------------------\n",
    "\n",
    "def Plot_Qsim_Campo(Lista):\n",
    "\t#obtiene la razon entre Qsim y Qmed \n",
    "\tRazon = Lista[-2] / qmed\n",
    "\t#Prepara mapas de grosor y de razon \n",
    "\tRazonC = np.ones(cu.ncells)\n",
    "\tGrosor = np.ones(cu.ncells)\n",
    "\tfor c,i in enumerate([20,50,80,200]):\n",
    "\t\tfor h in range(1,6):        \n",
    "\t\t\tcamb = 6 - h\n",
    "\t\t\tRazonC[(Razon >= i*camb) & (horton == h)] = c+2\n",
    "\t\t\tGrosor[(Razon >= i*camb) & (horton == h)] = np.log((c+1)*10)**1.4\n",
    "\t#Plot \t\n",
    "\tCoord = cu.Plot_Net(Grosor, RazonC,  \n",
    "\t\ttranparent = True, \n",
    "\t\truta = Lista[1],\n",
    "\t\tclean = True, \n",
    "\t\t#~ colorbar = False,\n",
    "\t\tshow_cbar = False, \n",
    "\t\tfigsize = (10,12), \n",
    "\t\tumbral = cauce, \n",
    "\t\tescala = 1.5,\n",
    "\t\tcmap = wmf.pl.get_cmap('viridis',5),\n",
    "\t\tvmin = None,\n",
    "\t\tvmax = None,\n",
    "\t\tshow = True)\n",
    "\t#dice lo que hace\n",
    "\tif verbose:#args.\n",
    "\t\tprint 'Aviso: Plot de StreamFlow para '+Lista[-1]+' generado.'"
   ]
  },
  {
   "cell_type": "code",
   "execution_count": 17,
   "metadata": {},
   "outputs": [
    {
     "name": "stdout",
     "output_type": "stream",
     "text": [
      "Aviso: Plot de StreamFlow para 004 generado.\n",
      "Aviso: Plot de StreamFlow para 002 generado.\n",
      "Aviso: Plot de StreamFlow para 003 generado.\n",
      "Aviso: Plot de StreamFlow para 001 generado.\n"
     ]
    }
   ],
   "source": [
    "#Ejecuta los plots\n",
    "if len(ListaEjec) > 15:\n",
    "\tNprocess = 15\n",
    "else:\n",
    "\tNprocess = len(ListaEjec)\n",
    "p = Pool(processes = Nprocess)\n",
    "p.map(Plot_Qsim_Campo, ListaEjec)\n",
    "p.close()\n",
    "\n",
    "#Guarda archuivo con coordenadas\n",
    "# if coord:#args.\n",
    "# \tf = open(ListaEjec[0][2], 'w')\n",
    "# \tfor t,i in zip(['Left', 'Right', 'Bottom', 'Top'], Coord):\n",
    "# \t\tf.write('%s, \\t %.4f \\n' % (t,i))\n",
    "# \tf.close()"
   ]
  }
 ],
 "metadata": {
  "kernelspec": {
   "display_name": "Python 2",
   "language": "python",
   "name": "python2"
  },
  "language_info": {
   "codemirror_mode": {
    "name": "ipython",
    "version": 2
   },
   "file_extension": ".py",
   "mimetype": "text/x-python",
   "name": "python",
   "nbconvert_exporter": "python",
   "pygments_lexer": "ipython2",
   "version": "2.7.6"
  }
 },
 "nbformat": 4,
 "nbformat_minor": 2
}
