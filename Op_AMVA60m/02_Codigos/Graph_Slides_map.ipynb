{
 "cells": [
  {
   "cell_type": "code",
   "execution_count": 1,
   "metadata": {
    "collapsed": true
   },
   "outputs": [],
   "source": [
    "#!/usr/bin/env python\n",
    "import argparse\n",
    "import textwrap\n",
    "import numpy as np\n",
    "import os\n",
    "from wmf import wmf\n",
    "import alarmas as al\n",
    "from multiprocessing import Pool\n",
    "import glob\n",
    "import pylab as pl \n",
    "import warnings\n",
    "warnings.filterwarnings('ignore')\n",
    "% matplotlib inline"
   ]
  },
  {
   "cell_type": "markdown",
   "metadata": {},
   "source": [
    "#Parametros de entrada del trazador\n",
    "parser=argparse.ArgumentParser(\n",
    "\tprog='Genera_Grafica_SlidesSim',\n",
    "\tformatter_class=argparse.RawDescriptionHelpFormatter,\n",
    "\tdescription=textwrap.dedent('''\\\n",
    "\tGenera los mapas de deslizamientos simulados por las parametrizaciones\n",
    "\tdel modelo hidrologico.\n",
    "        '''))\n",
    "#Parametros obligatorios\n",
    "parser.add_argument(\"date\",help=\"(Obligatorio) Decha actual de ejecucion YYYY-MM-DD-HH:MM\")\n",
    "parser.add_argument(\"cuenca\",help=\"Cuenca con la estructura que hace todo\")\n",
    "parser.add_argument(\"rutaConfig\",help=\"(Obligatorio) Ruta con la configuracion de la cuenca\")\n",
    "parser.add_argument(\"-c\", \"--coord\",help=\"Escribe archivo con coordenadas\", default = False, type = bool)\n",
    "parser.add_argument(\"-v\",\"--verbose\",help=\"Informa sobre la fecha que esta agregando\", \n",
    "\taction = 'store_true')\n",
    "\t\n",
    "#lee todos los argumentos\n",
    "args=parser.parse_args()"
   ]
  },
  {
   "cell_type": "code",
   "execution_count": 9,
   "metadata": {
    "collapsed": true
   },
   "outputs": [],
   "source": [
    "date='2017-10-09'\n",
    "cuenca='/media/nicolas/Home/Jupyter/Soraya/Op_Alarmas/Op_AMVA60m/01_Cuenca/Barbosa_Slides_001.nc'\n",
    "rutaConfig='/media/nicolas/Home/Jupyter/Soraya/Op_Alarmas/Op_AMVA60m/01_Cuenca/EjemploCalib_Calib.md'\n",
    "coord=True\n",
    "verbose=True"
   ]
  },
  {
   "cell_type": "code",
   "execution_count": 10,
   "metadata": {
    "collapsed": true
   },
   "outputs": [],
   "source": [
    "#-------------------------------------------------------------------------------------------------------\n",
    "#-------------------------------------------------------------------------------------------------------\n",
    "#Lectura de cuenca y variables\n",
    "cu = wmf.SimuBasin(rute=cuenca, SimSlides = True)\n",
    "wmf.models.slide_allocate(cu.ncells, 10)"
   ]
  },
  {
   "cell_type": "code",
   "execution_count": 11,
   "metadata": {
    "collapsed": true
   },
   "outputs": [],
   "source": [
    "#Se marcan con 1 las celdas incondicionalmente inestables.\n",
    "R = np.copy(wmf.models.sl_riskvector)"
   ]
  },
  {
   "cell_type": "code",
   "execution_count": 12,
   "metadata": {
    "collapsed": true
   },
   "outputs": [],
   "source": [
    "R1 = np.zeros(cu.ncells)\n",
    "pos_ever=np.where(R==2)[1]\n",
    "R1[pos_ever] = 1"
   ]
  },
  {
   "cell_type": "code",
   "execution_count": 13,
   "metadata": {
    "collapsed": true
   },
   "outputs": [],
   "source": [
    "#Lee el archivo de configuracion\n",
    "ListConfig = al.get_rutesList(rutaConfig)\n",
    "#Se define ruta donde se leeran los resultados a plotear\n",
    "ruta_in = al.get_ruta(ListConfig,'ruta_slides')\n",
    "#Lectura de rutas de salida de la imagen\n",
    "ruta_out = al.get_ruta(ListConfig,'ruta_map_slides')\n",
    "#Diccionario con info de plot: se lee la info de todos los parametrizaciones\n",
    "ListPlotVar = al.get_modelConfig_lines(ListConfig, '-p', Calib_Storage='Plot',PlotType='Slides')\n",
    "\n",
    "#Construye las listas para plotear en paralelo para cada parametrizacion\n",
    "#Ademas se acumula el numero de celdas acumuladas de todas las parametrizaciones.\n",
    "ListaEjec = []; Vsum = np.zeros(cu.ncells)"
   ]
  },
  {
   "cell_type": "code",
   "execution_count": 14,
   "metadata": {
    "collapsed": true
   },
   "outputs": [],
   "source": [
    "for l in range(0,len(ListPlotVar)):\n",
    "\t#Mira la ruta del folder y si no existe la crea\n",
    "\truta_folder = ruta_out+ListPlotVar[l]+'/'\n",
    "\tEsta = glob.glob(ruta_folder)\n",
    "\tif len(Esta) == 0:\n",
    "\t\tos.system('mkdir '+ruta_folder)\n",
    "\t#Obtiene las rutas de los archivos de salida\n",
    "\truta_out_png = ruta_folder+'Slides'+ListPlotVar[l]+'_'+date+'.png'\n",
    "\truta_out_txt = ruta_folder+'Slides'+ListPlotVar[l]+'_'+date+'.txt'\n",
    "\t#Lee los binarios de deslizamientos para la cuenca, para cada parametrizacion\n",
    "\tv,r = wmf.models.read_int_basin(ruta_in,l+1,cu.ncells)\n",
    "    #Se marcan las celdas simuladas con 2.\n",
    "\t#Si no hay celdas simuladas, deslizamos una para no alterar la escala de colores.\n",
    "\tif v.max()==0:\n",
    "\t\tv[0]=2\n",
    "\telse:\n",
    "\t\tv[v==1]=2\n",
    "\t#se suman las celdas siempre inestables con las simuladas\n",
    "\tmap1 = R1 + v\n",
    "\t# se  sesga el max a 2 para que se vean bien las celdas simuladas\n",
    "\tmap1[map1>2] = 2\n",
    "\t#Se organiza la lista con parametros necesarios para plotear los mapas con la funcion que sigue\n",
    "\tListaEjec.append([ruta_in, ruta_out_png, ruta_out_txt, map1, ListPlotVar[l]])\n",
    "\t#Se van acumulando las celdas simuladas en cada parametrizacion\n",
    "\tVsum += v\n",
    "#Si marcan las celdas siempre inestables y se sesga a 2 las celdas mayores que 2 para no alterar escala de color.\n",
    "Vsum[pos_ever]=1\n",
    "Vsum[Vsum>2]=2\n",
    "#si no hay celdas deslizadas, deslizamos una para no alterar la escala de colores.\n",
    "if Vsum.max()==1:\n",
    "\tVsum[0]=2\n",
    "else:\n",
    "\tpass"
   ]
  },
  {
   "cell_type": "code",
   "execution_count": 15,
   "metadata": {},
   "outputs": [
    {
     "data": {
      "image/png": "[encoded data removed]",
      "text/plain": [
       "<matplotlib.figure.Figure at 0x7f833d526d10>"
      ]
     },
     "metadata": {},
     "output_type": "display_data"
    },
    {
     "data": {
      "text/plain": [
       "([-75.71027374267578,\n",
       "  -75.215234393777791,\n",
       "  5.978703498840332,\n",
       "  6.5508705253014341],\n",
       " <matplotlib.axes._subplots.AxesSubplot at 0x7f83b4255450>)"
      ]
     },
     "execution_count": 15,
     "metadata": {},
     "output_type": "execute_result"
    }
   ],
   "source": [
    "cu.Plot_basinClean(map1,cmap = pl.get_cmap('viridis',3),show_cbar=True)"
   ]
  },
  {
   "cell_type": "code",
   "execution_count": null,
   "metadata": {
    "collapsed": true
   },
   "outputs": [],
   "source": [
    "###Se agrega el mapa de celdas acumuladas entre los que se van a plotear desde la info en ListaEjec\n",
    "#Obtiene las rutas de los archivos de salida\n",
    "\t#Mira la ruta del folder y si no existe la crea\n",
    "\truta_folder = ruta_out+'ParsAcum/'\n",
    "\tEsta = glob.glob(ruta_folder)\n",
    "\tif len(Esta) == 0:\n",
    "\t\tos.system('mkdir '+ruta_folder)\n",
    "ruta_out_png = ruta_folder+'SlidesParsAcum_'+date+'.png'\n",
    "ruta_out_txt = ruta_folder+'SlidesParsAcum_'+date+'.txt'\n",
    "#Se organiza la lista con parametros necesarios para plotear los mapas con la funcion que sigue\n",
    "ListaEjec.append([ruta_in, ruta_out_png, ruta_out_txt, Vsum, '999'])"
   ]
  },
  {
   "cell_type": "code",
   "execution_count": null,
   "metadata": {
    "collapsed": true
   },
   "outputs": [],
   "source": [
    "#-------------------------------------------------------------------------------------------------------\n",
    "#Se generan  los plots de deslizamientos de cada parametrizacion y el acumulado\n",
    "#-------------------------------------------------------------------------------------------------------\n",
    "\n",
    "def Plot_SlidesSim(Lista):\n",
    "\t# #Plots de Parametrizaciones\n",
    "\t# bins=4\n",
    "\t# try:\n",
    "\t# \tticks_vec=np.arange(0,VarToPlot.max()+1,int(VarToPlot.max())/bins)\n",
    "\t# except:\n",
    "\t# \tticks_vec=np.arange(0,3.5,0.5)\n",
    "    \n",
    "\tVarToPlot=Lista[-2]\n",
    "\tif Lista[-1] != '999':\n",
    "\t\tCoord,ax=cu.Plot_basinClean(VarToPlot,#show_cbar=True,\n",
    "\t\t\t\t\t\t\t\t\truta=Lista[1],\n",
    "\t\t\t\t\t\t\t\t\tcmap = pl.get_cmap('viridis',3),\n",
    "\t\t\t\t\t\t\t\t\tshow=False,figsize = (30,15))                                    \n",
    "\t\t\t\t\t\t\t\t#se configura los ticks del colorbar para que aparezcan siempre la misma cantidad y del mismo tamano\n",
    "\t\t\t\t\t\t\t\t# cbar_ticks=ticks_vec,cbar_ticklabels=ticks_vec,cbar_ticksize=16,\t\t\t\t\t\t\t\t\t\n",
    "\t\t#ax.set_title('Slides Map Par'+Lista[-1]+' '+args.date, fontsize=16 )\n",
    "\t\t#~ pl.suptitle('Slides Map Par'+Lista[-1]+' '+args.date, fontsize=18, x=0.5, y=0.09)\t\t\n",
    "\t\t#~ ax.figure.savefig(Lista[1],bbox_inches='tight')\n",
    "\t#Plot de mapa acumulado de deslizamientos en todas las Parametrizaciones\n",
    "\telse:\n",
    "\t\tCoord,ax=cu.Plot_basinClean(VarToPlot,#show_cbar=True,\n",
    "\t\t\t\t\t\t\t\t\tcmap = pl.get_cmap('viridis',3),\n",
    "\t\t\t\t\t\t\t\t\truta=Lista[1],\n",
    "\t\t\t\t\t\t\t\t\tshow=False,figsize = (30,15))                                    \n",
    "\t\t\t\t\t\t\t#se configura los ticks del colorbar para que aparezcan siempre la misma cantidad y del mismo tamano\n",
    "\t\t\t\t\t\t\t#~ cbar_ticks=ticks_vec,cbar_ticklabels=ticks_vec,cbar_ticksize=16,\n",
    "\t\t#ax.set_title('Slides Map AcumPars '+args.date, fontsize=16 )\n",
    "\t\t#~ pl.suptitle('Slides Map AcumPars '+args.date, fontsize=18, x=0.5, y=0.09)\n",
    "\t\t#~ ax.figure.savefig(Lista[1],bbox_inches='tight')\n",
    "        \n",
    "\t#dice lo que hace\n",
    "\tif args.verbose:\n",
    "\t\tprint 'Aviso: Plot de Deslizamientos para '+Lista[-1]+' generado.'"
   ]
  },
  {
   "cell_type": "code",
   "execution_count": null,
   "metadata": {
    "collapsed": true
   },
   "outputs": [],
   "source": [
    "#Ejecuta los plots\n",
    "if len(ListaEjec) > 15:\n",
    "\tNprocess = 15\n",
    "else:\n",
    "\tNprocess = len(ListaEjec)\n",
    "p = Pool(processes = Nprocess)\n",
    "p.map(Plot_SlidesSim, ListaEjec)\n",
    "p.close()\n",
    "\n",
    "#Guarda archuivo con coordenadas - por defecto es false, cuando se cambie revisar Coord.\n",
    "if args.coord:\n",
    "\tf = open(ListaEjec[0][2], 'w')\n",
    "\tfor t,i in zip(['Left', 'Right', 'Bottom', 'Top'], Coord):\n",
    "\t\tf.write('%s, \\t %.4f \\n' % (t,i))\n",
    "\tf.close()"
   ]
  }
 ],
 "metadata": {
  "kernelspec": {
   "display_name": "Python 2",
   "language": "python",
   "name": "python2"
  },
  "language_info": {
   "codemirror_mode": {
    "name": "ipython",
    "version": 2
   },
   "file_extension": ".py",
   "mimetype": "text/x-python",
   "name": "python",
   "nbconvert_exporter": "python",
   "pygments_lexer": "ipython2",
   "version": "2.7.6"
  }
 },
 "nbformat": 4,
 "nbformat_minor": 2
}
